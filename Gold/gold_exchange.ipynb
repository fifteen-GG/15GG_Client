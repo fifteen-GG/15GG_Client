{
 "cells": [
  {
   "cell_type": "code",
   "execution_count": 20,
   "metadata": {},
   "outputs": [],
   "source": [
    "import json\n",
    "\n",
    "with open('sample.json', encoding='UTF-8') as src:\n",
    "    source = json.load(src)\n",
    "\n",
    "with open('item.json', encoding='UTF-8') as src:\n",
    "    item_dict = json.load(src)"
   ]
  },
  {
   "cell_type": "code",
   "execution_count": 21,
   "metadata": {},
   "outputs": [],
   "source": [
    "item_list = list()\n",
    "gold = int()"
   ]
  },
  {
   "cell_type": "code",
   "execution_count": 22,
   "metadata": {},
   "outputs": [
    {
     "name": "stdout",
     "output_type": "stream",
     "text": [
      "[2003, 3850, 3340]\n"
     ]
    }
   ],
   "source": [
    "for item in source['items']:\n",
    "    item_list.append(item['itemID'])\n",
    "print(item_list)"
   ]
  },
  {
   "cell_type": "code",
   "execution_count": 23,
   "metadata": {},
   "outputs": [
    {
     "name": "stdout",
     "output_type": "stream",
     "text": [
      "50\n",
      "450\n",
      "450\n"
     ]
    }
   ],
   "source": [
    "for item in item_list:\n",
    "    if(str(item) in item_dict) :\n",
    "        gold += item_dict[str(item)]['gold']\n",
    "\n",
    "source['gold'] = gold"
   ]
  },
  {
   "cell_type": "code",
   "execution_count": 33,
   "metadata": {},
   "outputs": [],
   "source": [
    "with open('result.json', 'w', encoding='UTF-8') as src:\n",
    "    json.dump(source, src, ensure_ascii=False)"
   ]
  },
  {
   "cell_type": "code",
   "execution_count": null,
   "metadata": {},
   "outputs": [],
   "source": []
  }
 ],
 "metadata": {
  "kernelspec": {
   "display_name": "Python 3.9.7 32-bit",
   "language": "python",
   "name": "python3"
  },
  "language_info": {
   "codemirror_mode": {
    "name": "ipython",
    "version": 3
   },
   "file_extension": ".py",
   "mimetype": "text/x-python",
   "name": "python",
   "nbconvert_exporter": "python",
   "pygments_lexer": "ipython3",
   "version": "3.9.7"
  },
  "orig_nbformat": 4,
  "vscode": {
   "interpreter": {
    "hash": "a6ace454319d3ad95d61239bb685a1d6c2aa057412de461d3c0e44f2c2d62045"
   }
  }
 },
 "nbformat": 4,
 "nbformat_minor": 2
}
